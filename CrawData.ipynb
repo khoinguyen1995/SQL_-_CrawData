{
 "cells": [
  {
   "cell_type": "code",
   "execution_count": 1,
   "id": "f90fa5cc",
   "metadata": {},
   "outputs": [],
   "source": [
    "import pandas as pd\n",
    "import numpy as np\n",
    "from selenium import webdriver\n",
    "from selenium.webdriver.common.by import By\n",
    "import time\n",
    "import requests\n",
    "import urllib"
   ]
  },
  {
   "cell_type": "code",
   "execution_count": 2,
   "id": "35374b06",
   "metadata": {},
   "outputs": [],
   "source": [
    "driver = webdriver.Chrome()"
   ]
  },
  {
   "cell_type": "code",
   "execution_count": 3,
   "id": "caf906f1",
   "metadata": {},
   "outputs": [],
   "source": [
    "driver.get(\"https://babycuatoi.vn/xep-hinh-thong-minh\")"
   ]
  },
  {
   "cell_type": "code",
   "execution_count": 4,
   "id": "ac48eef3",
   "metadata": {},
   "outputs": [],
   "source": [
    "while True:\n",
    "    try:\n",
    "        readmore1 = driver.find_element(By.ID, value = 'viewmore')\n",
    "        readmore1.click()\n",
    "    except:\n",
    "        break"
   ]
  },
  {
   "cell_type": "markdown",
   "id": "69d532ba",
   "metadata": {},
   "source": [
    "## Tên sản phẩm"
   ]
  },
  {
   "cell_type": "code",
   "execution_count": 5,
   "id": "0af77f04",
   "metadata": {},
   "outputs": [],
   "source": [
    "product_info = driver.find_elements(By.CSS_SELECTOR, 'div.product-content')"
   ]
  },
  {
   "cell_type": "code",
   "execution_count": 6,
   "id": "42ded72f",
   "metadata": {},
   "outputs": [
    {
     "data": {
      "text/plain": [
       "['Đồ chơi xếp hình nam châm thông minh 48 chi tiết CLB-3',\n",
       " 'Đồ chơi xếp hình nam châm thông minh 64 chi tiết CLB-4',\n",
       " 'Bộ bàn ghế xếp hình LEGO đa năng kèm 105 chi tiết xếp hình cỡ lớn UG401-2',\n",
       " 'Xếp hình thông minh tàu hỏa tuổi thơ BBT Global 5306',\n",
       " 'Bộ bàn chơi LEGO đa năng 2 ghế kèm bộ xếp hình 100 chi tiết cỡ lớn 188T-8/188T-9',\n",
       " 'Bộ đồ chơi xếp hình thả bóng thông minh 48 chi tiết 68078',\n",
       " 'Đồ chơi xếp hình ngôi nhà trái cây 336 chi tiết 5218',\n",
       " 'Bộ bàn ghế xếp hình LEGO đa năng kèm 105 chi tiết xếp hình cỡ lớn UG401-1',\n",
       " 'Đồ chơi xếp hình cho bé vườn bách thú thả bóng 168 chi tiết 8803C',\n",
       " 'Bộ bàn chơi LEGO đa năng kèm 61 chi tiết xếp hình 669-40',\n",
       " 'Bộ bàn chơi LEGO đa năng 1 ghế kèm bộ xếp hình 60 chi tiết cỡ lớn 188T-3',\n",
       " 'Đồ chơi xếp hình cho bé thả bóng thông minh 97 chi tiết 8801',\n",
       " 'Đồ chơi bảng núm gỗ lắp ráp theo chủ đề BBT Global 333-4',\n",
       " 'Bộ bàn chơi LEGO đa năng 2 ghế kèm 60 chi tiết xếp hình cỡ lớn 188T-4',\n",
       " 'Xếp hình thông minh xe cứu hỏa BBT Global 5126',\n",
       " 'Đồ chơi xếp hình 3D nam châm ráp ô tô BBT Global 689B',\n",
       " 'Đồ chơi xếp hình nhà hàng hải sản 490 chi tiết 6571',\n",
       " 'Đồ chơi xếp hình cung điện Elsa SW803',\n",
       " 'Đồ chơi xếp hình 3D nam châm 40 chi tiết BBT Global 689-28',\n",
       " 'Đồ chơi xếp hình xe ô tô cho bé trai 336 chi tiết 5105',\n",
       " 'Đồ chơi xếp hình xe ô tô Lamborghini cho bé 341 chi tiết 5103',\n",
       " 'Đồ chơi xếp hình thế giới khủng long 742 chi tiết SY1505',\n",
       " 'Bộ đồ chơi xếp hình cao cấp kỹ sư công trình CGBX4115',\n",
       " 'Đồ chơi xếp hình khủng long máy Mecha Gorgila 560 chi tiết 1510',\n",
       " 'Xếp hình thông minh mô hình cảnh sát 5130',\n",
       " 'Đồ chơi mô hình đoàn tàu có đèn và nhạc 2055-3',\n",
       " 'Xếp mô hình 3D ngôi nhà biệt thự cho bé 3D-29',\n",
       " 'Đồ chơi mô hình đoàn tàu kèm bộ số BY-5001',\n",
       " 'Bộ đồ chơi xếp hình cao cấp đàn piano cho bé CGBX4524',\n",
       " 'Đồ chơi xếp hình 3D cho bé hình tàu thủy LX-207',\n",
       " 'Đồ chơi xếp hình 3D xe tăng 0981',\n",
       " 'Đồ chơi xếp hình 3D tàu thủy LX-202',\n",
       " 'Đồ chơi xếp hình 3D công viên vui nhộn LX-607',\n",
       " 'Đồ chơi xếp hình trực thăng 3D LX-146',\n",
       " 'Đồ chơi xếp hình 3D trạm cảnh sát LX-321',\n",
       " 'Đồ chơi xếp hình 3D cho bé hình trực thăng LD-258-17',\n",
       " 'Đồ chơi xếp hình 3D ngôi nhà ước mơ cho bé LX-851',\n",
       " 'Đồ chơi xếp hình 3D nam châm 70 chi tiết BBT Global 689-29',\n",
       " 'Bộ xếp hình gạch khổng lồ Hàn Quốc cho bé HN993',\n",
       " 'Đồ chơi xếp hình thông minh thị trấn vui nhộn 889-907',\n",
       " 'Xếp hình thông minh quán ăn vui vẻ BBT Global 5232',\n",
       " 'Xếp hình thông minh máy bay siêu tốc BBT Global 5100',\n",
       " 'Đồ chơi xếp hình thông minh cho bé gái 5238',\n",
       " 'Xếp hình thông minh cứu hỏa chữa cháy BBT Global 5162',\n",
       " 'Mô hình công viên trò chơi tốc độ 2166A',\n",
       " 'Xếp hình thông minh vườn thú vui vẻ 5083',\n",
       " 'Bộ đồ chơi xếp hình cao cấp đi dã ngoại CGBX4120',\n",
       " 'Bộ cánh cửa xếp hình Hàn Quốc cho bé HN993S',\n",
       " 'Đồ chơi máy gắp thú bông đa năng 5357-2']"
      ]
     },
     "execution_count": 6,
     "metadata": {},
     "output_type": "execute_result"
    }
   ],
   "source": [
    "lst_name = []\n",
    "for name in product_info:\n",
    "    lst_name.append(name.find_element(By.TAG_NAME, 'h3').text)\n",
    "lst_name"
   ]
  },
  {
   "cell_type": "markdown",
   "id": "684086e0",
   "metadata": {},
   "source": [
    "## Giá bán + Tỉ lệ giảm giá"
   ]
  },
  {
   "cell_type": "code",
   "execution_count": 7,
   "id": "3819abac",
   "metadata": {},
   "outputs": [],
   "source": [
    "find = driver.find_elements(By.CSS_SELECTOR, '.box-price')"
   ]
  },
  {
   "cell_type": "code",
   "execution_count": 8,
   "id": "05283a9a",
   "metadata": {},
   "outputs": [
    {
     "data": {
      "text/plain": [
       "['189.000₫ -20%',\n",
       " '249.000₫ -20%',\n",
       " '499.000₫ -20%',\n",
       " '263.000₫ -20%',\n",
       " '1.100.000₫ -20%',\n",
       " '220.000₫ -20%',\n",
       " '199.000₫ -20%',\n",
       " '499.000₫ -20%',\n",
       " '580.000₫ -20%',\n",
       " '366.000₫',\n",
       " '940.000₫ -20%',\n",
       " '330.000₫',\n",
       " '40.000₫ -20%',\n",
       " '990.000₫ -20%',\n",
       " '99.000₫ -30%',\n",
       " '209.000₫',\n",
       " '399.000₫ -20%',\n",
       " '173.000₫',\n",
       " '188.000₫ -20%',\n",
       " '199.000₫',\n",
       " '199.000₫',\n",
       " '199.000₫ -20%',\n",
       " '95.000₫',\n",
       " '379.000₫ -20%',\n",
       " '221.000₫',\n",
       " '190.000₫',\n",
       " '20.000₫ -20%',\n",
       " '156.000₫',\n",
       " '95.000₫',\n",
       " '20.000₫ -20%',\n",
       " '20.000₫',\n",
       " '20.000₫',\n",
       " '20.000₫',\n",
       " '20.000₫',\n",
       " '20.000₫',\n",
       " '20.000₫ -20%',\n",
       " '20.000₫ -20%',\n",
       " '282.000₫ -20%',\n",
       " '3.740.000₫',\n",
       " '629.000₫ -20%',\n",
       " '419.000₫',\n",
       " '105.000₫',\n",
       " '473.000₫',\n",
       " '410.000₫',\n",
       " '209.000₫ -30%',\n",
       " '126.000₫',\n",
       " '158.000₫',\n",
       " '550.000₫',\n",
       " '629.000₫ -20%']"
      ]
     },
     "execution_count": 8,
     "metadata": {},
     "output_type": "execute_result"
    }
   ],
   "source": [
    "lst_price_all = []\n",
    "for price in find:\n",
    "    lst_price_all.append(price.text)\n",
    "lst_price_all"
   ]
  },
  {
   "cell_type": "markdown",
   "id": "01a4ece0",
   "metadata": {},
   "source": [
    "## Link hình"
   ]
  },
  {
   "cell_type": "code",
   "execution_count": 9,
   "id": "70d7e696",
   "metadata": {},
   "outputs": [],
   "source": [
    "find1 = driver.find_elements(By.CLASS_NAME, 'img')"
   ]
  },
  {
   "cell_type": "code",
   "execution_count": 10,
   "id": "098ff28f",
   "metadata": {},
   "outputs": [
    {
     "data": {
      "text/plain": [
       "['https://sudospaces.com/babycuatoi/2022/10/clb-4-do-choi-xep-hinh-nam-cham-64-chi-tiet-cho-be-14-medium.jpg',\n",
       " 'https://sudospaces.com/babycuatoi/2022/09/clb-4-do-choi-xep-hinh-nam-cham-64-chi-tiet-cho-be-medium.jpg',\n",
       " 'https://sudospaces.com/babycuatoi/2021/11/ug401-2-ban-ghe-tre-em-kiem-xep-hinh-lego-cho-be-1-medium.jpg',\n",
       " 'https://sudospaces.com/babycuatoi/2022/10/5306-do-choi-xep-hinh-cho-be-10-medium.jpg',\n",
       " 'https://sudospaces.com/babycuatoi/2021/01/188t-8-ban-choi-lego-cho-be-medium.jpg',\n",
       " 'https://sudospaces.com/babycuatoi/2021/04/68078-do-choi-xep-hinh-tha-bong-cho-be-10-medium.jpg',\n",
       " 'https://sudospaces.com/babycuatoi/2022/10/5218-do-choi-xep-hinh-ngoi-nha-trai-cay-1-medium.jpg',\n",
       " 'https://sudospaces.com/babycuatoi/2021/11/ug401-1-ban-ghe-tre-em-kiem-xep-hinh-lego-cho-be-medium.jpg',\n",
       " 'https://sudospaces.com/babycuatoi/2021/01/8803c-do-choi-xep-hinh-cho-be-medium.jpg',\n",
       " 'https://sudospaces.com/babycuatoi/2021/02/669-40-ban-xep-hinh-lego-cho-be-9-medium.jpg',\n",
       " 'https://sudospaces.com/babycuatoi/2021/01/188t-3-ban-ghe-choi-lego-da-nang-cho-be-3-medium.jpg',\n",
       " 'https://sudospaces.com/babycuatoi/2021/03/8801-do-choi-xep-hinh-cho-be-4-medium.jpg',\n",
       " 'https://sudospaces.com/babycuatoi/2021/07/333-4-do-choi-go-lap-rap-hinh-thong-minh-medium.jpg',\n",
       " 'https://sudospaces.com/babycuatoi/2021/07/188t-4-ban-ghe-choi-lego-da-nang-cho-be-7-medium.jpg',\n",
       " 'https://sudospaces.com/babycuatoi/2021/02/5126-do-choi-xep-hinh-cho-be-1-medium.jpg',\n",
       " 'https://sudospaces.com/babycuatoi/2020/05/689b-do-choi-xep-hinh-cho-be-1-medium.jpg',\n",
       " 'https://sudospaces.com/babycuatoi/2022/10/6571-do-choi-xep-hinh-cho-be-gai-medium.jpg',\n",
       " 'https://sudospaces.com/babycuatoi/2021/01/sw803-do-choi-xep-hinh-cho-be-1-medium.jpg',\n",
       " 'https://sudospaces.com/babycuatoi/2020/05/689-28-do-choi-xep-hinh-cho-be-1-medium.jpg',\n",
       " 'https://sudospaces.com/babycuatoi/2021/12/5105-medium.png',\n",
       " 'https://sudospaces.com/babycuatoi/2021/12/5103-medium.png',\n",
       " 'https://sudospaces.com/babycuatoi/2022/10/sy1505-do-choi-xep-hinh-thong-minh-cho-be-1-medium.jpg',\n",
       " 'https://sudospaces.com/babycuatoi/2021/01/cgbx4115-do-choi-xep-hinh-cho-be-medium.jpg',\n",
       " 'https://sudospaces.com/babycuatoi/2022/10/1510-do-choi-xep-hinh-khung-long-cho-be-medium.jpg',\n",
       " 'https://sudospaces.com/babycuatoi/2021/02/5130-do-choi-xep-hinh-cho-be-1-3-medium.jpg',\n",
       " 'https://sudospaces.com/babycuatoi/2021/01/2055-3-do-choi-mo-hinh-duong-tau-co-dung-pin-medium.jpg',\n",
       " 'https://sudospaces.com/babycuatoi/2021/06/3d-29-do-choi-xep-hinh-cho-be-1-medium.jpg',\n",
       " 'https://sudospaces.com/babycuatoi/2021/01/by-5001-do-choi-doan-tau-vui-nhon-medium.jpg',\n",
       " 'https://sudospaces.com/babycuatoi/2021/01/cgbx4524-do-choi-xep-hinh-cho-be-medium.jpg',\n",
       " 'https://sudospaces.com/babycuatoi/2021/06/lx-207-do-choi-xep-hinh-cho-be-medium.jpg',\n",
       " 'https://sudospaces.com/babycuatoi/2021/10/0981-do-choi-xep-hinh-3d-xe-tang-medium.jpg',\n",
       " 'https://sudospaces.com/babycuatoi/2021/10/lx-202-do-choi-xep-hinh-3d-tau-thuy-medium.jpg',\n",
       " 'https://sudospaces.com/babycuatoi/2021/10/lx-607-do-choi-xep-hinh-3d-cong-vien-vui-nhon-medium.jpg',\n",
       " 'https://sudospaces.com/babycuatoi/2021/10/lx-146-do-choi-xep-hinh-cho-be-2-medium.jpg',\n",
       " 'https://sudospaces.com/babycuatoi/2021/10/lx-321-xep-hinh-3d-cho-be-medium.jpg',\n",
       " 'https://sudospaces.com/babycuatoi/2021/06/dl-258-17-do-choi-xep-hinh-cho-be-2-medium.jpg',\n",
       " 'https://sudospaces.com/babycuatoi/2021/06/lx-851-do-choi-xep-hinh-cho-be-1-medium.jpg',\n",
       " 'https://sudospaces.com/babycuatoi/2020/05/689-29-do-choi-xep-hinh-cho-be-2-2-medium.jpg',\n",
       " 'https://sudospaces.com/babycuatoi/2020/09/hn993-do-choi-xep-hinh-1-medium.jpg',\n",
       " 'https://sudospaces.com/babycuatoi/uploads/23072019/889-907-mo-hinh-thi-tran-vui-nhon-medium.jpg',\n",
       " 'https://sudospaces.com/babycuatoi/uploads/05052016/xep-hinh-thong-minh-5232-medium.png',\n",
       " 'https://sudospaces.com/babycuatoi/uploads/05052016/xep-hinh-thong-minh-5100-medium.png',\n",
       " 'https://sudospaces.com/babycuatoi/2021/01/5238-do-choi-xep-hinh-cho-be-medium.jpg',\n",
       " 'https://sudospaces.com/babycuatoi/uploads/05052016/xep-hinh-thong-minh-5162-medium.png',\n",
       " 'https://sudospaces.com/babycuatoi/2021/01/2166a-do-choi-xep-hinh-cho-be-medium.jpg',\n",
       " 'https://sudospaces.com/babycuatoi/2021/01/bo-do-choi-xep-hinh-lap-rap-5083-medium.jpg',\n",
       " 'https://sudospaces.com/babycuatoi/2021/01/cgbx4120-do-choi-xep-hinh-cho-be-medium.jpg',\n",
       " 'https://sudospaces.com/babycuatoi/uploads/04092019/hn993s-do-choi-xep-hinh-han-quoc-cho-be-medium.jpg',\n",
       " 'https://sudospaces.com/babycuatoi/2022/08/5357-2-do-choi-gap-thu-bong-cho-be-1-1-medium.jpg']"
      ]
     },
     "execution_count": 10,
     "metadata": {},
     "output_type": "execute_result"
    }
   ],
   "source": [
    "lst_img = []\n",
    "for img in find1:\n",
    "    lst_img.append(img.find_element(By.TAG_NAME, value='img').get_attribute('src'))\n",
    "lst_img"
   ]
  },
  {
   "cell_type": "markdown",
   "id": "c2d5464d",
   "metadata": {},
   "source": [
    "## Chuyển thành df"
   ]
  },
  {
   "cell_type": "code",
   "execution_count": 11,
   "id": "1e448615",
   "metadata": {},
   "outputs": [
    {
     "data": {
      "text/plain": [
       "(49, 49, 49)"
      ]
     },
     "execution_count": 11,
     "metadata": {},
     "output_type": "execute_result"
    }
   ],
   "source": [
    "len(lst_name), len(lst_img), len(lst_price_all)"
   ]
  },
  {
   "cell_type": "code",
   "execution_count": 12,
   "id": "1adfb3c1",
   "metadata": {},
   "outputs": [],
   "source": [
    "df = pd.DataFrame({'Tên Sản Phẩm': lst_name,\n",
    "                   'Giá bán': lst_price_all,\n",
    "                   'Link hình': lst_img})"
   ]
  },
  {
   "cell_type": "code",
   "execution_count": 13,
   "id": "d1930086",
   "metadata": {},
   "outputs": [
    {
     "data": {
      "text/html": [
       "<div>\n",
       "<style scoped>\n",
       "    .dataframe tbody tr th:only-of-type {\n",
       "        vertical-align: middle;\n",
       "    }\n",
       "\n",
       "    .dataframe tbody tr th {\n",
       "        vertical-align: top;\n",
       "    }\n",
       "\n",
       "    .dataframe thead th {\n",
       "        text-align: right;\n",
       "    }\n",
       "</style>\n",
       "<table border=\"1\" class=\"dataframe\">\n",
       "  <thead>\n",
       "    <tr style=\"text-align: right;\">\n",
       "      <th></th>\n",
       "      <th>Tên Sản Phẩm</th>\n",
       "      <th>Giá bán</th>\n",
       "      <th>Link hình</th>\n",
       "    </tr>\n",
       "  </thead>\n",
       "  <tbody>\n",
       "    <tr>\n",
       "      <th>0</th>\n",
       "      <td>Đồ chơi xếp hình nam châm thông minh 48 chi ti...</td>\n",
       "      <td>189.000₫ -20%</td>\n",
       "      <td>https://sudospaces.com/babycuatoi/2022/10/clb-...</td>\n",
       "    </tr>\n",
       "    <tr>\n",
       "      <th>1</th>\n",
       "      <td>Đồ chơi xếp hình nam châm thông minh 64 chi ti...</td>\n",
       "      <td>249.000₫ -20%</td>\n",
       "      <td>https://sudospaces.com/babycuatoi/2022/09/clb-...</td>\n",
       "    </tr>\n",
       "    <tr>\n",
       "      <th>2</th>\n",
       "      <td>Bộ bàn ghế xếp hình LEGO đa năng kèm 105 chi t...</td>\n",
       "      <td>499.000₫ -20%</td>\n",
       "      <td>https://sudospaces.com/babycuatoi/2021/11/ug40...</td>\n",
       "    </tr>\n",
       "    <tr>\n",
       "      <th>3</th>\n",
       "      <td>Xếp hình thông minh tàu hỏa tuổi thơ BBT Globa...</td>\n",
       "      <td>263.000₫ -20%</td>\n",
       "      <td>https://sudospaces.com/babycuatoi/2022/10/5306...</td>\n",
       "    </tr>\n",
       "    <tr>\n",
       "      <th>4</th>\n",
       "      <td>Bộ bàn chơi LEGO đa năng 2 ghế kèm bộ xếp hình...</td>\n",
       "      <td>1.100.000₫ -20%</td>\n",
       "      <td>https://sudospaces.com/babycuatoi/2021/01/188t...</td>\n",
       "    </tr>\n",
       "  </tbody>\n",
       "</table>\n",
       "</div>"
      ],
      "text/plain": [
       "                                        Tên Sản Phẩm          Giá bán  \\\n",
       "0  Đồ chơi xếp hình nam châm thông minh 48 chi ti...    189.000₫ -20%   \n",
       "1  Đồ chơi xếp hình nam châm thông minh 64 chi ti...    249.000₫ -20%   \n",
       "2  Bộ bàn ghế xếp hình LEGO đa năng kèm 105 chi t...    499.000₫ -20%   \n",
       "3  Xếp hình thông minh tàu hỏa tuổi thơ BBT Globa...    263.000₫ -20%   \n",
       "4  Bộ bàn chơi LEGO đa năng 2 ghế kèm bộ xếp hình...  1.100.000₫ -20%   \n",
       "\n",
       "                                           Link hình  \n",
       "0  https://sudospaces.com/babycuatoi/2022/10/clb-...  \n",
       "1  https://sudospaces.com/babycuatoi/2022/09/clb-...  \n",
       "2  https://sudospaces.com/babycuatoi/2021/11/ug40...  \n",
       "3  https://sudospaces.com/babycuatoi/2022/10/5306...  \n",
       "4  https://sudospaces.com/babycuatoi/2021/01/188t...  "
      ]
     },
     "execution_count": 13,
     "metadata": {},
     "output_type": "execute_result"
    }
   ],
   "source": [
    "df.head()"
   ]
  },
  {
   "cell_type": "markdown",
   "id": "64a29427",
   "metadata": {},
   "source": [
    "## Xử lý Discount"
   ]
  },
  {
   "cell_type": "code",
   "execution_count": 14,
   "id": "f09703a9",
   "metadata": {},
   "outputs": [],
   "source": [
    "df['Giá bán'] = df['Giá bán'].str.split()"
   ]
  },
  {
   "cell_type": "code",
   "execution_count": 15,
   "id": "2cf3f8ba",
   "metadata": {},
   "outputs": [],
   "source": [
    "df['Discount'] = df['Giá bán']"
   ]
  },
  {
   "cell_type": "code",
   "execution_count": 16,
   "id": "e96378bd",
   "metadata": {},
   "outputs": [],
   "source": [
    "for i in range(len(df['Discount'])):\n",
    "    if len(df['Discount'][i]) == 2:\n",
    "        df['Discount'][i] = df['Discount'][i][1]\n",
    "    else:\n",
    "        df['Discount'][i] = '0'"
   ]
  },
  {
   "cell_type": "code",
   "execution_count": 17,
   "id": "7b9930ab",
   "metadata": {},
   "outputs": [
    {
     "data": {
      "text/html": [
       "<div>\n",
       "<style scoped>\n",
       "    .dataframe tbody tr th:only-of-type {\n",
       "        vertical-align: middle;\n",
       "    }\n",
       "\n",
       "    .dataframe tbody tr th {\n",
       "        vertical-align: top;\n",
       "    }\n",
       "\n",
       "    .dataframe thead th {\n",
       "        text-align: right;\n",
       "    }\n",
       "</style>\n",
       "<table border=\"1\" class=\"dataframe\">\n",
       "  <thead>\n",
       "    <tr style=\"text-align: right;\">\n",
       "      <th></th>\n",
       "      <th>Tên Sản Phẩm</th>\n",
       "      <th>Giá bán</th>\n",
       "      <th>Link hình</th>\n",
       "      <th>Discount</th>\n",
       "    </tr>\n",
       "  </thead>\n",
       "  <tbody>\n",
       "    <tr>\n",
       "      <th>0</th>\n",
       "      <td>Đồ chơi xếp hình nam châm thông minh 48 chi ti...</td>\n",
       "      <td>[189.000₫, -20%]</td>\n",
       "      <td>https://sudospaces.com/babycuatoi/2022/10/clb-...</td>\n",
       "      <td>-20%</td>\n",
       "    </tr>\n",
       "    <tr>\n",
       "      <th>1</th>\n",
       "      <td>Đồ chơi xếp hình nam châm thông minh 64 chi ti...</td>\n",
       "      <td>[249.000₫, -20%]</td>\n",
       "      <td>https://sudospaces.com/babycuatoi/2022/09/clb-...</td>\n",
       "      <td>-20%</td>\n",
       "    </tr>\n",
       "    <tr>\n",
       "      <th>2</th>\n",
       "      <td>Bộ bàn ghế xếp hình LEGO đa năng kèm 105 chi t...</td>\n",
       "      <td>[499.000₫, -20%]</td>\n",
       "      <td>https://sudospaces.com/babycuatoi/2021/11/ug40...</td>\n",
       "      <td>-20%</td>\n",
       "    </tr>\n",
       "    <tr>\n",
       "      <th>3</th>\n",
       "      <td>Xếp hình thông minh tàu hỏa tuổi thơ BBT Globa...</td>\n",
       "      <td>[263.000₫, -20%]</td>\n",
       "      <td>https://sudospaces.com/babycuatoi/2022/10/5306...</td>\n",
       "      <td>-20%</td>\n",
       "    </tr>\n",
       "    <tr>\n",
       "      <th>4</th>\n",
       "      <td>Bộ bàn chơi LEGO đa năng 2 ghế kèm bộ xếp hình...</td>\n",
       "      <td>[1.100.000₫, -20%]</td>\n",
       "      <td>https://sudospaces.com/babycuatoi/2021/01/188t...</td>\n",
       "      <td>-20%</td>\n",
       "    </tr>\n",
       "  </tbody>\n",
       "</table>\n",
       "</div>"
      ],
      "text/plain": [
       "                                        Tên Sản Phẩm             Giá bán  \\\n",
       "0  Đồ chơi xếp hình nam châm thông minh 48 chi ti...    [189.000₫, -20%]   \n",
       "1  Đồ chơi xếp hình nam châm thông minh 64 chi ti...    [249.000₫, -20%]   \n",
       "2  Bộ bàn ghế xếp hình LEGO đa năng kèm 105 chi t...    [499.000₫, -20%]   \n",
       "3  Xếp hình thông minh tàu hỏa tuổi thơ BBT Globa...    [263.000₫, -20%]   \n",
       "4  Bộ bàn chơi LEGO đa năng 2 ghế kèm bộ xếp hình...  [1.100.000₫, -20%]   \n",
       "\n",
       "                                           Link hình Discount  \n",
       "0  https://sudospaces.com/babycuatoi/2022/10/clb-...     -20%  \n",
       "1  https://sudospaces.com/babycuatoi/2022/09/clb-...     -20%  \n",
       "2  https://sudospaces.com/babycuatoi/2021/11/ug40...     -20%  \n",
       "3  https://sudospaces.com/babycuatoi/2022/10/5306...     -20%  \n",
       "4  https://sudospaces.com/babycuatoi/2021/01/188t...     -20%  "
      ]
     },
     "execution_count": 17,
     "metadata": {},
     "output_type": "execute_result"
    }
   ],
   "source": [
    "df.head()"
   ]
  },
  {
   "cell_type": "code",
   "execution_count": 18,
   "id": "d41ea530",
   "metadata": {},
   "outputs": [],
   "source": [
    "df['Discount'] = df['Discount'].str.replace('%','')\n",
    "df['Discount'] = df['Discount'].str.replace('-','')"
   ]
  },
  {
   "cell_type": "code",
   "execution_count": 19,
   "id": "ce7da588",
   "metadata": {},
   "outputs": [
    {
     "data": {
      "text/html": [
       "<div>\n",
       "<style scoped>\n",
       "    .dataframe tbody tr th:only-of-type {\n",
       "        vertical-align: middle;\n",
       "    }\n",
       "\n",
       "    .dataframe tbody tr th {\n",
       "        vertical-align: top;\n",
       "    }\n",
       "\n",
       "    .dataframe thead th {\n",
       "        text-align: right;\n",
       "    }\n",
       "</style>\n",
       "<table border=\"1\" class=\"dataframe\">\n",
       "  <thead>\n",
       "    <tr style=\"text-align: right;\">\n",
       "      <th></th>\n",
       "      <th>Tên Sản Phẩm</th>\n",
       "      <th>Giá bán</th>\n",
       "      <th>Link hình</th>\n",
       "      <th>Discount</th>\n",
       "    </tr>\n",
       "  </thead>\n",
       "  <tbody>\n",
       "    <tr>\n",
       "      <th>0</th>\n",
       "      <td>Đồ chơi xếp hình nam châm thông minh 48 chi ti...</td>\n",
       "      <td>[189.000₫, -20%]</td>\n",
       "      <td>https://sudospaces.com/babycuatoi/2022/10/clb-...</td>\n",
       "      <td>20</td>\n",
       "    </tr>\n",
       "    <tr>\n",
       "      <th>1</th>\n",
       "      <td>Đồ chơi xếp hình nam châm thông minh 64 chi ti...</td>\n",
       "      <td>[249.000₫, -20%]</td>\n",
       "      <td>https://sudospaces.com/babycuatoi/2022/09/clb-...</td>\n",
       "      <td>20</td>\n",
       "    </tr>\n",
       "    <tr>\n",
       "      <th>2</th>\n",
       "      <td>Bộ bàn ghế xếp hình LEGO đa năng kèm 105 chi t...</td>\n",
       "      <td>[499.000₫, -20%]</td>\n",
       "      <td>https://sudospaces.com/babycuatoi/2021/11/ug40...</td>\n",
       "      <td>20</td>\n",
       "    </tr>\n",
       "    <tr>\n",
       "      <th>3</th>\n",
       "      <td>Xếp hình thông minh tàu hỏa tuổi thơ BBT Globa...</td>\n",
       "      <td>[263.000₫, -20%]</td>\n",
       "      <td>https://sudospaces.com/babycuatoi/2022/10/5306...</td>\n",
       "      <td>20</td>\n",
       "    </tr>\n",
       "    <tr>\n",
       "      <th>4</th>\n",
       "      <td>Bộ bàn chơi LEGO đa năng 2 ghế kèm bộ xếp hình...</td>\n",
       "      <td>[1.100.000₫, -20%]</td>\n",
       "      <td>https://sudospaces.com/babycuatoi/2021/01/188t...</td>\n",
       "      <td>20</td>\n",
       "    </tr>\n",
       "  </tbody>\n",
       "</table>\n",
       "</div>"
      ],
      "text/plain": [
       "                                        Tên Sản Phẩm             Giá bán  \\\n",
       "0  Đồ chơi xếp hình nam châm thông minh 48 chi ti...    [189.000₫, -20%]   \n",
       "1  Đồ chơi xếp hình nam châm thông minh 64 chi ti...    [249.000₫, -20%]   \n",
       "2  Bộ bàn ghế xếp hình LEGO đa năng kèm 105 chi t...    [499.000₫, -20%]   \n",
       "3  Xếp hình thông minh tàu hỏa tuổi thơ BBT Globa...    [263.000₫, -20%]   \n",
       "4  Bộ bàn chơi LEGO đa năng 2 ghế kèm bộ xếp hình...  [1.100.000₫, -20%]   \n",
       "\n",
       "                                           Link hình Discount  \n",
       "0  https://sudospaces.com/babycuatoi/2022/10/clb-...       20  \n",
       "1  https://sudospaces.com/babycuatoi/2022/09/clb-...       20  \n",
       "2  https://sudospaces.com/babycuatoi/2021/11/ug40...       20  \n",
       "3  https://sudospaces.com/babycuatoi/2022/10/5306...       20  \n",
       "4  https://sudospaces.com/babycuatoi/2021/01/188t...       20  "
      ]
     },
     "execution_count": 19,
     "metadata": {},
     "output_type": "execute_result"
    }
   ],
   "source": [
    "df.head()"
   ]
  },
  {
   "cell_type": "code",
   "execution_count": 20,
   "id": "8caba382",
   "metadata": {},
   "outputs": [],
   "source": [
    "df['Discount'] = df['Discount'].astype(float)"
   ]
  },
  {
   "cell_type": "code",
   "execution_count": 21,
   "id": "336b2227",
   "metadata": {},
   "outputs": [
    {
     "name": "stdout",
     "output_type": "stream",
     "text": [
      "<class 'pandas.core.frame.DataFrame'>\n",
      "RangeIndex: 49 entries, 0 to 48\n",
      "Data columns (total 4 columns):\n",
      " #   Column        Non-Null Count  Dtype  \n",
      "---  ------        --------------  -----  \n",
      " 0   Tên Sản Phẩm  49 non-null     object \n",
      " 1   Giá bán       49 non-null     object \n",
      " 2   Link hình     49 non-null     object \n",
      " 3   Discount      49 non-null     float64\n",
      "dtypes: float64(1), object(3)\n",
      "memory usage: 1.7+ KB\n"
     ]
    }
   ],
   "source": [
    "df.info()"
   ]
  },
  {
   "cell_type": "markdown",
   "id": "e0137e04",
   "metadata": {},
   "source": [
    "## Xử lý giá bán"
   ]
  },
  {
   "cell_type": "code",
   "execution_count": 22,
   "id": "ce2c2ef3",
   "metadata": {},
   "outputs": [
    {
     "name": "stderr",
     "output_type": "stream",
     "text": [
      "C:\\Users\\pc\\AppData\\Local\\Temp\\ipykernel_12752\\206337870.py:3: FutureWarning: The default value of regex will change from True to False in a future version. In addition, single character regular expressions will *not* be treated as literal strings when regex=True.\n",
      "  df['Giá bán'] = df['Giá bán'].str.replace(\".\",\"\")\n"
     ]
    }
   ],
   "source": [
    "df['Giá bán'] = df['Giá bán'].map(lambda x: x[0])\n",
    "df['Giá bán'] = df['Giá bán'].map(lambda x: x[:-1])\n",
    "df['Giá bán'] = df['Giá bán'].str.replace(\".\",\"\")"
   ]
  },
  {
   "cell_type": "code",
   "execution_count": 23,
   "id": "ee78df4a",
   "metadata": {},
   "outputs": [
    {
     "data": {
      "text/html": [
       "<div>\n",
       "<style scoped>\n",
       "    .dataframe tbody tr th:only-of-type {\n",
       "        vertical-align: middle;\n",
       "    }\n",
       "\n",
       "    .dataframe tbody tr th {\n",
       "        vertical-align: top;\n",
       "    }\n",
       "\n",
       "    .dataframe thead th {\n",
       "        text-align: right;\n",
       "    }\n",
       "</style>\n",
       "<table border=\"1\" class=\"dataframe\">\n",
       "  <thead>\n",
       "    <tr style=\"text-align: right;\">\n",
       "      <th></th>\n",
       "      <th>Tên Sản Phẩm</th>\n",
       "      <th>Giá bán</th>\n",
       "      <th>Link hình</th>\n",
       "      <th>Discount</th>\n",
       "    </tr>\n",
       "  </thead>\n",
       "  <tbody>\n",
       "    <tr>\n",
       "      <th>0</th>\n",
       "      <td>Đồ chơi xếp hình nam châm thông minh 48 chi ti...</td>\n",
       "      <td>189000</td>\n",
       "      <td>https://sudospaces.com/babycuatoi/2022/10/clb-...</td>\n",
       "      <td>20.0</td>\n",
       "    </tr>\n",
       "    <tr>\n",
       "      <th>1</th>\n",
       "      <td>Đồ chơi xếp hình nam châm thông minh 64 chi ti...</td>\n",
       "      <td>249000</td>\n",
       "      <td>https://sudospaces.com/babycuatoi/2022/09/clb-...</td>\n",
       "      <td>20.0</td>\n",
       "    </tr>\n",
       "    <tr>\n",
       "      <th>2</th>\n",
       "      <td>Bộ bàn ghế xếp hình LEGO đa năng kèm 105 chi t...</td>\n",
       "      <td>499000</td>\n",
       "      <td>https://sudospaces.com/babycuatoi/2021/11/ug40...</td>\n",
       "      <td>20.0</td>\n",
       "    </tr>\n",
       "    <tr>\n",
       "      <th>3</th>\n",
       "      <td>Xếp hình thông minh tàu hỏa tuổi thơ BBT Globa...</td>\n",
       "      <td>263000</td>\n",
       "      <td>https://sudospaces.com/babycuatoi/2022/10/5306...</td>\n",
       "      <td>20.0</td>\n",
       "    </tr>\n",
       "    <tr>\n",
       "      <th>4</th>\n",
       "      <td>Bộ bàn chơi LEGO đa năng 2 ghế kèm bộ xếp hình...</td>\n",
       "      <td>1100000</td>\n",
       "      <td>https://sudospaces.com/babycuatoi/2021/01/188t...</td>\n",
       "      <td>20.0</td>\n",
       "    </tr>\n",
       "  </tbody>\n",
       "</table>\n",
       "</div>"
      ],
      "text/plain": [
       "                                        Tên Sản Phẩm  Giá bán  \\\n",
       "0  Đồ chơi xếp hình nam châm thông minh 48 chi ti...   189000   \n",
       "1  Đồ chơi xếp hình nam châm thông minh 64 chi ti...   249000   \n",
       "2  Bộ bàn ghế xếp hình LEGO đa năng kèm 105 chi t...   499000   \n",
       "3  Xếp hình thông minh tàu hỏa tuổi thơ BBT Globa...   263000   \n",
       "4  Bộ bàn chơi LEGO đa năng 2 ghế kèm bộ xếp hình...  1100000   \n",
       "\n",
       "                                           Link hình  Discount  \n",
       "0  https://sudospaces.com/babycuatoi/2022/10/clb-...      20.0  \n",
       "1  https://sudospaces.com/babycuatoi/2022/09/clb-...      20.0  \n",
       "2  https://sudospaces.com/babycuatoi/2021/11/ug40...      20.0  \n",
       "3  https://sudospaces.com/babycuatoi/2022/10/5306...      20.0  \n",
       "4  https://sudospaces.com/babycuatoi/2021/01/188t...      20.0  "
      ]
     },
     "execution_count": 23,
     "metadata": {},
     "output_type": "execute_result"
    }
   ],
   "source": [
    "df.head()"
   ]
  },
  {
   "cell_type": "code",
   "execution_count": 24,
   "id": "d73db82b",
   "metadata": {},
   "outputs": [],
   "source": [
    "df['Giá bán'] = df['Giá bán'].astype(float)"
   ]
  },
  {
   "cell_type": "code",
   "execution_count": 25,
   "id": "5874692d",
   "metadata": {},
   "outputs": [
    {
     "name": "stdout",
     "output_type": "stream",
     "text": [
      "<class 'pandas.core.frame.DataFrame'>\n",
      "RangeIndex: 49 entries, 0 to 48\n",
      "Data columns (total 4 columns):\n",
      " #   Column        Non-Null Count  Dtype  \n",
      "---  ------        --------------  -----  \n",
      " 0   Tên Sản Phẩm  49 non-null     object \n",
      " 1   Giá bán       49 non-null     float64\n",
      " 2   Link hình     49 non-null     object \n",
      " 3   Discount      49 non-null     float64\n",
      "dtypes: float64(2), object(2)\n",
      "memory usage: 1.7+ KB\n"
     ]
    }
   ],
   "source": [
    "df.info()"
   ]
  },
  {
   "cell_type": "code",
   "execution_count": 26,
   "id": "9199e655",
   "metadata": {},
   "outputs": [],
   "source": [
    "df.to_csv(\"Products.csv\", index=False, encoding = 'utf-8')"
   ]
  },
  {
   "cell_type": "markdown",
   "id": "e04f25b9",
   "metadata": {},
   "source": [
    "### Save hình về file Images"
   ]
  },
  {
   "cell_type": "code",
   "execution_count": 30,
   "id": "f2d99c9e",
   "metadata": {
    "scrolled": true
   },
   "outputs": [],
   "source": [
    "for link in lst_img:\n",
    "    name = link.split('/')[-1]\n",
    "    with open('Images/' + name, 'wb') as f:\n",
    "        img_response = requests.get(link)\n",
    "        f.write(img_response.content)\n",
    "        f.close()"
   ]
  },
  {
   "cell_type": "code",
   "execution_count": null,
   "id": "6220185a",
   "metadata": {},
   "outputs": [],
   "source": [
    "# driver.close()"
   ]
  },
  {
   "cell_type": "code",
   "execution_count": null,
   "id": "cc164f94",
   "metadata": {},
   "outputs": [],
   "source": []
  }
 ],
 "metadata": {
  "kernelspec": {
   "display_name": "Python 3 (ipykernel)",
   "language": "python",
   "name": "python3"
  },
  "language_info": {
   "codemirror_mode": {
    "name": "ipython",
    "version": 3
   },
   "file_extension": ".py",
   "mimetype": "text/x-python",
   "name": "python",
   "nbconvert_exporter": "python",
   "pygments_lexer": "ipython3",
   "version": "3.10.4"
  }
 },
 "nbformat": 4,
 "nbformat_minor": 5
}
